{
 "cells": [
  {
   "cell_type": "code",
   "execution_count": 1,
   "metadata": {},
   "outputs": [],
   "source": [
    "import warnings\n",
    "warnings.filterwarnings('ignore')"
   ]
  },
  {
   "cell_type": "code",
   "execution_count": 2,
   "metadata": {},
   "outputs": [],
   "source": [
    "import numpy as np # linear algebra\n",
    "import pandas as pd # data processing, CSV file I/O (e.g. pd.read_csv)\n",
    "import seaborn as sns\n",
    "from sklearn.model_selection import train_test_split"
   ]
  },
  {
   "cell_type": "code",
   "execution_count": 3,
   "metadata": {},
   "outputs": [],
   "source": [
    "from scipy.io.arff import loadarff \n",
    "\n",
    "raw_data = loadarff('data/2year.arff')\n",
    "df = pd.DataFrame(raw_data[0])"
   ]
  },
  {
   "cell_type": "code",
   "execution_count": 4,
   "metadata": {},
   "outputs": [],
   "source": [
    "df = df.dropna()"
   ]
  },
  {
   "cell_type": "code",
   "execution_count": 5,
   "metadata": {},
   "outputs": [
    {
     "name": "stdout",
     "output_type": "stream",
     "text": [
      "<class 'pandas.core.frame.DataFrame'>\n",
      "Int64Index: 4088 entries, 0 to 10172\n",
      "Data columns (total 65 columns):\n",
      "Attr1     4088 non-null float64\n",
      "Attr2     4088 non-null float64\n",
      "Attr3     4088 non-null float64\n",
      "Attr4     4088 non-null float64\n",
      "Attr5     4088 non-null float64\n",
      "Attr6     4088 non-null float64\n",
      "Attr7     4088 non-null float64\n",
      "Attr8     4088 non-null float64\n",
      "Attr9     4088 non-null float64\n",
      "Attr10    4088 non-null float64\n",
      "Attr11    4088 non-null float64\n",
      "Attr12    4088 non-null float64\n",
      "Attr13    4088 non-null float64\n",
      "Attr14    4088 non-null float64\n",
      "Attr15    4088 non-null float64\n",
      "Attr16    4088 non-null float64\n",
      "Attr17    4088 non-null float64\n",
      "Attr18    4088 non-null float64\n",
      "Attr19    4088 non-null float64\n",
      "Attr20    4088 non-null float64\n",
      "Attr21    4088 non-null float64\n",
      "Attr22    4088 non-null float64\n",
      "Attr23    4088 non-null float64\n",
      "Attr24    4088 non-null float64\n",
      "Attr25    4088 non-null float64\n",
      "Attr26    4088 non-null float64\n",
      "Attr27    4088 non-null float64\n",
      "Attr28    4088 non-null float64\n",
      "Attr29    4088 non-null float64\n",
      "Attr30    4088 non-null float64\n",
      "Attr31    4088 non-null float64\n",
      "Attr32    4088 non-null float64\n",
      "Attr33    4088 non-null float64\n",
      "Attr34    4088 non-null float64\n",
      "Attr35    4088 non-null float64\n",
      "Attr36    4088 non-null float64\n",
      "Attr37    4088 non-null float64\n",
      "Attr38    4088 non-null float64\n",
      "Attr39    4088 non-null float64\n",
      "Attr40    4088 non-null float64\n",
      "Attr41    4088 non-null float64\n",
      "Attr42    4088 non-null float64\n",
      "Attr43    4088 non-null float64\n",
      "Attr44    4088 non-null float64\n",
      "Attr45    4088 non-null float64\n",
      "Attr46    4088 non-null float64\n",
      "Attr47    4088 non-null float64\n",
      "Attr48    4088 non-null float64\n",
      "Attr49    4088 non-null float64\n",
      "Attr50    4088 non-null float64\n",
      "Attr51    4088 non-null float64\n",
      "Attr52    4088 non-null float64\n",
      "Attr53    4088 non-null float64\n",
      "Attr54    4088 non-null float64\n",
      "Attr55    4088 non-null float64\n",
      "Attr56    4088 non-null float64\n",
      "Attr57    4088 non-null float64\n",
      "Attr58    4088 non-null float64\n",
      "Attr59    4088 non-null float64\n",
      "Attr60    4088 non-null float64\n",
      "Attr61    4088 non-null float64\n",
      "Attr62    4088 non-null float64\n",
      "Attr63    4088 non-null float64\n",
      "Attr64    4088 non-null float64\n",
      "class     4088 non-null object\n",
      "dtypes: float64(64), object(1)\n",
      "memory usage: 2.1+ MB\n"
     ]
    }
   ],
   "source": [
    "df.info()"
   ]
  },
  {
   "cell_type": "code",
   "execution_count": 6,
   "metadata": {},
   "outputs": [
    {
     "data": {
      "text/plain": [
       "b'0'    4015\n",
       "b'1'      73\n",
       "Name: class, dtype: int64"
      ]
     },
     "execution_count": 6,
     "metadata": {},
     "output_type": "execute_result"
    }
   ],
   "source": [
    "df['class'].value_counts()"
   ]
  },
  {
   "cell_type": "code",
   "execution_count": 7,
   "metadata": {},
   "outputs": [
    {
     "data": {
      "image/png": "[encoded data removed]",
      "text/plain": [
       "<Figure size 432x288 with 1 Axes>"
      ]
     },
     "metadata": {
      "needs_background": "light"
     },
     "output_type": "display_data"
    }
   ],
   "source": [
    "df['class'].value_counts().plot(kind='bar',color=('red','blue'));"
   ]
  },
  {
   "cell_type": "code",
   "execution_count": 8,
   "metadata": {},
   "outputs": [],
   "source": [
    "# Import label encoder \n",
    "from sklearn import preprocessing \n",
    "\n",
    "# label_encoder object knows \n",
    "# how to understand word labels. \n",
    "label_encoder = preprocessing.LabelEncoder() \n",
    "\n",
    "# Encode labels in column 'species'. \n",
    "df['class']= label_encoder.fit_transform(df['class']) "
   ]
  },
  {
   "cell_type": "code",
   "execution_count": 9,
   "metadata": {},
   "outputs": [
    {
     "name": "stdout",
     "output_type": "stream",
     "text": [
      "<class 'pandas.core.frame.DataFrame'>\n",
      "Int64Index: 4088 entries, 0 to 10172\n",
      "Data columns (total 65 columns):\n",
      "Attr1     4088 non-null float64\n",
      "Attr2     4088 non-null float64\n",
      "Attr3     4088 non-null float64\n",
      "Attr4     4088 non-null float64\n",
      "Attr5     4088 non-null float64\n",
      "Attr6     4088 non-null float64\n",
      "Attr7     4088 non-null float64\n",
      "Attr8     4088 non-null float64\n",
      "Attr9     4088 non-null float64\n",
      "Attr10    4088 non-null float64\n",
      "Attr11    4088 non-null float64\n",
      "Attr12    4088 non-null float64\n",
      "Attr13    4088 non-null float64\n",
      "Attr14    4088 non-null float64\n",
      "Attr15    4088 non-null float64\n",
      "Attr16    4088 non-null float64\n",
      "Attr17    4088 non-null float64\n",
      "Attr18    4088 non-null float64\n",
      "Attr19    4088 non-null float64\n",
      "Attr20    4088 non-null float64\n",
      "Attr21    4088 non-null float64\n",
      "Attr22    4088 non-null float64\n",
      "Attr23    4088 non-null float64\n",
      "Attr24    4088 non-null float64\n",
      "Attr25    4088 non-null float64\n",
      "Attr26    4088 non-null float64\n",
      "Attr27    4088 non-null float64\n",
      "Attr28    4088 non-null float64\n",
      "Attr29    4088 non-null float64\n",
      "Attr30    4088 non-null float64\n",
      "Attr31    4088 non-null float64\n",
      "Attr32    4088 non-null float64\n",
      "Attr33    4088 non-null float64\n",
      "Attr34    4088 non-null float64\n",
      "Attr35    4088 non-null float64\n",
      "Attr36    4088 non-null float64\n",
      "Attr37    4088 non-null float64\n",
      "Attr38    4088 non-null float64\n",
      "Attr39    4088 non-null float64\n",
      "Attr40    4088 non-null float64\n",
      "Attr41    4088 non-null float64\n",
      "Attr42    4088 non-null float64\n",
      "Attr43    4088 non-null float64\n",
      "Attr44    4088 non-null float64\n",
      "Attr45    4088 non-null float64\n",
      "Attr46    4088 non-null float64\n",
      "Attr47    4088 non-null float64\n",
      "Attr48    4088 non-null float64\n",
      "Attr49    4088 non-null float64\n",
      "Attr50    4088 non-null float64\n",
      "Attr51    4088 non-null float64\n",
      "Attr52    4088 non-null float64\n",
      "Attr53    4088 non-null float64\n",
      "Attr54    4088 non-null float64\n",
      "Attr55    4088 non-null float64\n",
      "Attr56    4088 non-null float64\n",
      "Attr57    4088 non-null float64\n",
      "Attr58    4088 non-null float64\n",
      "Attr59    4088 non-null float64\n",
      "Attr60    4088 non-null float64\n",
      "Attr61    4088 non-null float64\n",
      "Attr62    4088 non-null float64\n",
      "Attr63    4088 non-null float64\n",
      "Attr64    4088 non-null float64\n",
      "class     4088 non-null int32\n",
      "dtypes: float64(64), int32(1)\n",
      "memory usage: 2.0 MB\n"
     ]
    }
   ],
   "source": [
    "df.info()"
   ]
  },
  {
   "cell_type": "code",
   "execution_count": 10,
   "metadata": {},
   "outputs": [
    {
     "data": {
      "text/plain": [
       "Index(['Attr1', 'Attr2', 'Attr3', 'Attr4', 'Attr5', 'Attr6', 'Attr7', 'Attr8',\n",
       "       'Attr9', 'Attr10', 'Attr11', 'Attr12', 'Attr13', 'Attr14', 'Attr15',\n",
       "       'Attr16', 'Attr17', 'Attr18', 'Attr19', 'Attr20', 'Attr21', 'Attr22',\n",
       "       'Attr23', 'Attr24', 'Attr25', 'Attr26', 'Attr27', 'Attr28', 'Attr29',\n",
       "       'Attr30', 'Attr31', 'Attr32', 'Attr33', 'Attr34', 'Attr35', 'Attr36',\n",
       "       'Attr37', 'Attr38', 'Attr39', 'Attr40', 'Attr41', 'Attr42', 'Attr43',\n",
       "       'Attr44', 'Attr45', 'Attr46', 'Attr47', 'Attr48', 'Attr49', 'Attr50',\n",
       "       'Attr51', 'Attr52', 'Attr53', 'Attr54', 'Attr55', 'Attr56', 'Attr57',\n",
       "       'Attr58', 'Attr59', 'Attr60', 'Attr61', 'Attr62', 'Attr63', 'Attr64',\n",
       "       'class'],\n",
       "      dtype='object')"
      ]
     },
     "execution_count": 10,
     "metadata": {},
     "output_type": "execute_result"
    }
   ],
   "source": [
    "df.columns"
   ]
  },
  {
   "cell_type": "markdown",
   "metadata": {},
   "source": [
    "# Feature Selection"
   ]
  },
  {
   "cell_type": "code",
   "execution_count": 11,
   "metadata": {},
   "outputs": [],
   "source": [
    "X = df[['Attr1', 'Attr2', 'Attr3', 'Attr4', 'Attr5', 'Attr6', 'Attr7', 'Attr8',\n",
    "       'Attr9', 'Attr10', 'Attr11', 'Attr12', 'Attr13', 'Attr14', 'Attr15',\n",
    "       'Attr16', 'Attr17', 'Attr18', 'Attr19', 'Attr20', 'Attr21', 'Attr22',\n",
    "       'Attr23', 'Attr24', 'Attr25', 'Attr26', 'Attr27', 'Attr28', 'Attr29',\n",
    "       'Attr30', 'Attr31', 'Attr32', 'Attr33', 'Attr34', 'Attr35', 'Attr36',\n",
    "       'Attr37', 'Attr38', 'Attr39', 'Attr40', 'Attr41', 'Attr42', 'Attr43',\n",
    "       'Attr44', 'Attr45', 'Attr46', 'Attr47', 'Attr48', 'Attr49', 'Attr50',\n",
    "       'Attr51', 'Attr52', 'Attr53', 'Attr54', 'Attr55', 'Attr56', 'Attr57',\n",
    "       'Attr58', 'Attr59', 'Attr60', 'Attr61', 'Attr62', 'Attr63', 'Attr64',]]\n",
    "y = df['class']"
   ]
  },
  {
   "cell_type": "markdown",
   "metadata": {},
   "source": [
    "# With Selected Features"
   ]
  },
  {
   "cell_type": "code",
   "execution_count": 12,
   "metadata": {},
   "outputs": [
    {
     "data": {
      "text/plain": [
       "(4088, 13)"
      ]
     },
     "execution_count": 12,
     "metadata": {},
     "output_type": "execute_result"
    }
   ],
   "source": [
    "from sklearn.feature_selection import SelectKBest, SelectPercentile, mutual_info_classif\n",
    "\n",
    "selector = SelectPercentile(mutual_info_classif, percentile=20)\n",
    "X_reduced = selector.fit_transform(X, y)\n",
    "X_reduced.shape\n"
   ]
  },
  {
   "cell_type": "code",
   "execution_count": 13,
   "metadata": {},
   "outputs": [
    {
     "data": {
      "text/plain": [
       "['Attr2',\n",
       " 'Attr8',\n",
       " 'Attr9',\n",
       " 'Attr10',\n",
       " 'Attr15',\n",
       " 'Attr16',\n",
       " 'Attr17',\n",
       " 'Attr22',\n",
       " 'Attr26',\n",
       " 'Attr27',\n",
       " 'Attr34',\n",
       " 'Attr46',\n",
       " 'Attr64']"
      ]
     },
     "execution_count": 13,
     "metadata": {},
     "output_type": "execute_result"
    }
   ],
   "source": [
    "cols = selector.get_support(indices=True)\n",
    "selected_columns = X.iloc[:,cols].columns.tolist()\n",
    "selected_columns"
   ]
  },
  {
   "cell_type": "code",
   "execution_count": 14,
   "metadata": {},
   "outputs": [],
   "source": [
    "df = df[['Attr2',\n",
    " 'Attr8',\n",
    " 'Attr9',\n",
    " 'Attr10',\n",
    " 'Attr15',\n",
    " 'Attr16',\n",
    " 'Attr17',\n",
    " 'Attr22',\n",
    " 'Attr26',\n",
    " 'Attr27',\n",
    " 'Attr34',\n",
    " 'Attr46',\n",
    " 'Attr64',\n",
    "         'class']]\n",
    "df.to_csv('process.csv')"
   ]
  },
  {
   "cell_type": "code",
   "execution_count": 15,
   "metadata": {},
   "outputs": [],
   "source": [
    "from sklearn.model_selection import train_test_split\n",
    "# splitting the dataset 80% for training and 20% testing\n",
    "X_train, X_test, y_train, y_test = train_test_split(X_reduced,y, test_size=0.20, random_state=42)"
   ]
  },
  {
   "cell_type": "code",
   "execution_count": 16,
   "metadata": {},
   "outputs": [],
   "source": [
    "from sklearn.metrics import accuracy_score, precision_score, recall_score, f1_score, roc_auc_score"
   ]
  },
  {
   "cell_type": "code",
   "execution_count": 18,
   "metadata": {},
   "outputs": [],
   "source": [
    "from imblearn.metrics import specificity_score,sensitivity_score"
   ]
  },
  {
   "cell_type": "code",
   "execution_count": 19,
   "metadata": {},
   "outputs": [],
   "source": [
    "ML_Model = []\n",
    "accuracy = []\n",
    "precision = []\n",
    "recall = []\n",
    "f1score = []\n",
    "roc = []\n",
    "spec = []\n",
    "sens = []\n",
    "\n",
    "#function to call for storing the results\n",
    "def storeResults(model, a,b,c,d,e,f,g):\n",
    "    ML_Model.append(model)\n",
    "    accuracy.append(round(a, 3))\n",
    "    precision.append(round(b, 3))\n",
    "    recall.append(round(c, 3))\n",
    "    f1score.append(round(d, 3))\n",
    "    roc.append(round(e, 3))\n",
    "    spec.append(round(f, 3))\n",
    "    sens.append(round(g, 3))"
   ]
  },
  {
   "cell_type": "markdown",
   "metadata": {},
   "source": [
    "# With The optimal hyperparameter using GA."
   ]
  },
  {
   "cell_type": "markdown",
   "metadata": {},
   "source": [
    "# Random Forest"
   ]
  },
  {
   "cell_type": "code",
   "execution_count": 20,
   "metadata": {},
   "outputs": [],
   "source": [
    "from sklearn.ensemble import RandomForestClassifier\n",
    "\n",
    "clf = RandomForestClassifier(n_estimators=100,max_depth=1)\n",
    "\n",
    "clf.fit(X_train, y_train)\n",
    "\n",
    "y_pred = clf.predict(X_test)\n",
    "\n",
    "rf_acc = accuracy_score(y_pred, y_test)\n",
    "rf_prec = precision_score(y_pred, y_test,average='weighted')\n",
    "rf_rec = recall_score(y_pred, y_test,average='weighted')\n",
    "rf_f1 = f1_score(y_pred, y_test,average='weighted')\n",
    "rf_roc = roc_auc_score(y_test, clf.predict_proba(X_test)[:, 1])\n",
    "rf_spec = specificity_score(y_pred, y_test,average='weighted')\n",
    "rf_sens = sensitivity_score(y_pred, y_test,average='weighted')"
   ]
  },
  {
   "cell_type": "code",
   "execution_count": 21,
   "metadata": {},
   "outputs": [],
   "source": [
    "storeResults('RF- Opt by GA',rf_acc,rf_prec,rf_rec,rf_f1,rf_roc,rf_spec,rf_sens)"
   ]
  },
  {
   "cell_type": "markdown",
   "metadata": {},
   "source": [
    "# SVM"
   ]
  },
  {
   "cell_type": "code",
   "execution_count": 22,
   "metadata": {},
   "outputs": [],
   "source": [
    "from sklearn.svm import SVC\n",
    "\n",
    "clf = SVC(probability=True,kernel='linear',C=10.0,gamma=0.1)\n",
    "# fit the model   \n",
    "clf.fit(X_train, y_train)\n",
    "\n",
    "y_pred = clf.predict(X_test)\n",
    "\n",
    "svc_acc = accuracy_score(y_pred, y_test)\n",
    "svc_prec = precision_score(y_pred, y_test)\n",
    "svc_rec = recall_score(y_pred, y_test)\n",
    "svc_f1 = f1_score(y_pred, y_test)\n",
    "svc_roc = roc_auc_score(y_test, clf.predict_proba(X_test)[:, 1])\n",
    "svc_spec = specificity_score(y_pred, y_test,average='weighted')\n",
    "svc_sens = sensitivity_score(y_pred, y_test,average='weighted')"
   ]
  },
  {
   "cell_type": "code",
   "execution_count": 23,
   "metadata": {},
   "outputs": [],
   "source": [
    "storeResults('SVM - Opt by GA',svc_acc,svc_prec,svc_rec,svc_f1,svc_roc,svc_spec,svc_sens)"
   ]
  },
  {
   "cell_type": "markdown",
   "metadata": {},
   "source": [
    "# XGBoost"
   ]
  },
  {
   "cell_type": "code",
   "execution_count": 24,
   "metadata": {},
   "outputs": [],
   "source": [
    "from xgboost import XGBClassifier\n",
    "\n",
    "clf = XGBClassifier(learning_rate=0.1,gamma=1)\n",
    "# fit the model   \n",
    "clf.fit(X_train, y_train)\n",
    "\n",
    "y_pred = clf.predict(X_test)\n",
    "\n",
    "xgb_acc = accuracy_score(y_pred, y_test)\n",
    "xgb_prec = precision_score(y_pred, y_test)\n",
    "xgb_rec = recall_score(y_pred, y_test)\n",
    "xgb_f1 = f1_score(y_pred, y_test)\n",
    "xgb_roc = roc_auc_score(y_test, clf.predict_proba(X_test)[:, 1])\n",
    "xgb_spec = specificity_score(y_pred, y_test,average='weighted')\n",
    "xgb_sens = sensitivity_score(y_pred, y_test,average='weighted')"
   ]
  },
  {
   "cell_type": "code",
   "execution_count": 25,
   "metadata": {},
   "outputs": [],
   "source": [
    "storeResults('XGB - Opt by GA',xgb_acc,xgb_prec,xgb_rec,xgb_f1,xgb_roc,xgb_spec,xgb_sens)"
   ]
  },
  {
   "cell_type": "markdown",
   "metadata": {},
   "source": [
    "# ANN - MLP"
   ]
  },
  {
   "cell_type": "code",
   "execution_count": 26,
   "metadata": {},
   "outputs": [],
   "source": [
    "from sklearn.neural_network import MLPClassifier\n",
    "ann = MLPClassifier(hidden_layer_sizes=(50,),activation='relu',learning_rate='adaptive')\n",
    "ann.fit(X_train, y_train) \n",
    "y_pred = ann.predict(X_test)\n",
    "\n",
    "ann_acc = accuracy_score(y_test, y_pred)\n",
    "ann_prec = precision_score(y_test, y_pred,average='weighted')\n",
    "ann_rec = recall_score(y_test, y_pred,average='weighted')\n",
    "ann_f1 = f1_score(y_test, y_pred,average='weighted')\n",
    "ann_roc = roc_auc_score(y_test, ann.predict_proba(X_test)[:, 1])\n",
    "ann_spec = specificity_score(y_pred, y_test,average='weighted')\n",
    "ann_sens = sensitivity_score(y_pred, y_test,average='weighted')"
   ]
  },
  {
   "cell_type": "code",
   "execution_count": 27,
   "metadata": {},
   "outputs": [],
   "source": [
    "storeResults('ANN - Opt by GA',ann_acc,ann_prec,ann_rec,ann_f1,ann_roc,ann_spec,ann_sens)"
   ]
  },
  {
   "cell_type": "markdown",
   "metadata": {},
   "source": [
    "# Hybird Model"
   ]
  },
  {
   "cell_type": "code",
   "execution_count": 28,
   "metadata": {},
   "outputs": [],
   "source": [
    "from sklearn.ensemble import RandomForestClassifier, VotingClassifier\n",
    "from sklearn.tree import DecisionTreeClassifier"
   ]
  },
  {
   "cell_type": "code",
   "execution_count": 30,
   "metadata": {},
   "outputs": [],
   "source": [
    "hclf = VotingClassifier(estimators=[('xgb', clf), ('ann', ann)], voting='soft')\n",
    "hclf.fit(X_train, y_train)\n",
    "y_pred = hclf.predict(X_test)\n",
    "\n",
    "hy_acc = accuracy_score(y_pred, y_test)\n",
    "hy_prec = precision_score(y_pred, y_test,average='weighted')\n",
    "hy_rec = recall_score(y_pred, y_test,average='weighted')\n",
    "hy_f1 = f1_score(y_pred, y_test,average='weighted')\n",
    "hy_roc = roc_auc_score(y_test, hclf.predict_proba(X_test)[:, 1])\n",
    "hy_spec = specificity_score(y_pred, y_test,average='weighted')\n",
    "hy_sens = sensitivity_score(y_pred, y_test,average='weighted')"
   ]
  },
  {
   "cell_type": "code",
   "execution_count": 31,
   "metadata": {},
   "outputs": [],
   "source": [
    "storeResults('Hybrid Model - Opt by GA',hy_acc,hy_prec,hy_rec,hy_f1,hy_roc,hy_spec,hy_sens)"
   ]
  },
  {
   "cell_type": "markdown",
   "metadata": {},
   "source": [
    "# Voting Classifier"
   ]
  },
  {
   "cell_type": "code",
   "execution_count": 34,
   "metadata": {},
   "outputs": [],
   "source": [
    "from sklearn.ensemble import BaggingClassifier\n",
    "\n",
    "clf1 = BaggingClassifier(RandomForestClassifier(),n_estimators=10, random_state=0)\n",
    "clf2 = DecisionTreeClassifier(random_state=10)\n",
    "\n",
    "eclf1 = VotingClassifier(estimators=[('bagging', clf1), ('dt', clf2)], voting='soft')\n",
    "eclf1.fit(X_train, y_train)\n",
    "y_pred = eclf1.predict(X_test)\n",
    "\n",
    "vot_acc = accuracy_score(y_pred, y_test)\n",
    "vot_prec = precision_score(y_pred, y_test,average='weighted')\n",
    "vot_rec = recall_score(y_pred, y_test,average='weighted')\n",
    "vot_f1 = f1_score(y_pred, y_test,average='weighted')\n",
    "vot_roc = roc_auc_score(y_test, eclf1.predict_proba(X_test)[:, 1])\n",
    "vot_spec = specificity_score(y_pred, y_test,average='weighted')\n",
    "vot_sens = sensitivity_score(y_pred, y_test,average='weighted')"
   ]
  },
  {
   "cell_type": "code",
   "execution_count": 35,
   "metadata": {},
   "outputs": [],
   "source": [
    "storeResults('Voting Classifier - Opt by GA',vot_acc,vot_prec,vot_rec,vot_f1,vot_roc,vot_spec,vot_sens)"
   ]
  },
  {
   "cell_type": "markdown",
   "metadata": {},
   "source": [
    "# With The optimal hyperparameter using PSO."
   ]
  },
  {
   "cell_type": "markdown",
   "metadata": {},
   "source": [
    "# Random Forest"
   ]
  },
  {
   "cell_type": "code",
   "execution_count": 36,
   "metadata": {},
   "outputs": [],
   "source": [
    "from sklearn.ensemble import RandomForestClassifier\n",
    "\n",
    "clf = RandomForestClassifier(n_estimators=40,max_depth=14)\n",
    "\n",
    "clf.fit(X_train, y_train)\n",
    "\n",
    "y_pred = clf.predict(X_test)\n",
    "\n",
    "rf1_acc = accuracy_score(y_pred, y_test)\n",
    "rf1_prec = precision_score(y_pred, y_test,average='weighted')\n",
    "rf1_rec = recall_score(y_pred, y_test,average='weighted')\n",
    "rf1_f1 = f1_score(y_pred, y_test,average='weighted')\n",
    "rf1_roc = roc_auc_score(y_test, clf.predict_proba(X_test)[:, 1])\n",
    "rf1_spec = specificity_score(y_pred, y_test,average='weighted')\n",
    "rf1_sens = sensitivity_score(y_pred, y_test,average='weighted')"
   ]
  },
  {
   "cell_type": "code",
   "execution_count": 37,
   "metadata": {},
   "outputs": [],
   "source": [
    "storeResults('RF - Opt by PSO',rf1_acc,rf1_prec,rf1_rec,rf1_f1,rf1_roc,rf1_spec,rf1_sens)"
   ]
  },
  {
   "cell_type": "markdown",
   "metadata": {},
   "source": [
    "# SVM"
   ]
  },
  {
   "cell_type": "code",
   "execution_count": 38,
   "metadata": {},
   "outputs": [],
   "source": [
    "from sklearn.svm import SVC\n",
    "\n",
    "clf = SVC(probability=True,kernel='linear',C=9.825,gamma=0.084)\n",
    "# fit the model   \n",
    "clf.fit(X_train, y_train)\n",
    "\n",
    "y_pred = clf.predict(X_test)\n",
    "\n",
    "svc1_acc = accuracy_score(y_pred, y_test)\n",
    "svc1_prec = precision_score(y_pred, y_test)\n",
    "svc1_rec = recall_score(y_pred, y_test)\n",
    "svc1_f1 = f1_score(y_pred, y_test)\n",
    "svc1_roc = roc_auc_score(y_test, clf.predict_proba(X_test)[:, 1])\n",
    "svc1_spec = specificity_score(y_pred, y_test,average='weighted')\n",
    "svc1_sens = sensitivity_score(y_pred, y_test,average='weighted')"
   ]
  },
  {
   "cell_type": "code",
   "execution_count": 39,
   "metadata": {},
   "outputs": [],
   "source": [
    "storeResults('SVC - Opt by PSO',svc1_acc,svc1_prec,svc1_rec,svc1_f1,svc1_roc,svc1_spec,svc1_sens)"
   ]
  },
  {
   "cell_type": "markdown",
   "metadata": {},
   "source": [
    "# XGBoost"
   ]
  },
  {
   "cell_type": "code",
   "execution_count": 40,
   "metadata": {},
   "outputs": [],
   "source": [
    "clf = XGBClassifier(learning_rate=1.0,gamma=0.001)\n",
    "# fit the model   \n",
    "clf.fit(X_train, y_train)\n",
    "\n",
    "y_pred = clf.predict(X_test)\n",
    "\n",
    "xgb1_acc = accuracy_score(y_pred, y_test)\n",
    "xgb1_prec = precision_score(y_pred, y_test)\n",
    "xgb1_rec = recall_score(y_pred, y_test)\n",
    "xgb1_f1 = f1_score(y_pred, y_test)\n",
    "xgb1_roc = roc_auc_score(y_test, clf.predict_proba(X_test)[:, 1])\n",
    "xgb1_spec = specificity_score(y_pred, y_test,average='weighted')\n",
    "xgb1_sens = sensitivity_score(y_pred, y_test,average='weighted')"
   ]
  },
  {
   "cell_type": "code",
   "execution_count": 41,
   "metadata": {},
   "outputs": [],
   "source": [
    "storeResults('XGB - Opt by PSO',xgb1_acc,xgb1_prec,xgb1_rec,xgb1_f1,xgb1_roc,xgb1_spec,xgb_sens)"
   ]
  },
  {
   "cell_type": "markdown",
   "metadata": {},
   "source": [
    "# ANN - MLP"
   ]
  },
  {
   "cell_type": "code",
   "execution_count": 42,
   "metadata": {},
   "outputs": [],
   "source": [
    "ann = MLPClassifier(hidden_layer_sizes=(38,),activation='tanh',learning_rate='constant')\n",
    "ann.fit(X_train, y_train) \n",
    "y_pred = ann.predict(X_test)\n",
    "\n",
    "ann1_acc = accuracy_score(y_test, y_pred)\n",
    "ann1_prec = precision_score(y_test, y_pred,average='weighted')\n",
    "ann1_rec = recall_score(y_test, y_pred,average='weighted')\n",
    "ann1_f1 = f1_score(y_test, y_pred,average='weighted')\n",
    "ann1_roc = roc_auc_score(y_test, ann.predict_proba(X_test)[:, 1])\n",
    "ann1_spec = specificity_score(y_pred, y_test,average='weighted')\n",
    "ann1_sens = sensitivity_score(y_pred, y_test,average='weighted')"
   ]
  },
  {
   "cell_type": "code",
   "execution_count": 43,
   "metadata": {},
   "outputs": [],
   "source": [
    "storeResults('ANN - Opt by PSO',ann1_acc,ann1_prec,ann1_rec,ann1_f1,ann1_roc,ann1_spec,ann1_sens)"
   ]
  },
  {
   "cell_type": "markdown",
   "metadata": {},
   "source": [
    "# Hybrid Model"
   ]
  },
  {
   "cell_type": "code",
   "execution_count": 44,
   "metadata": {},
   "outputs": [],
   "source": [
    "hclf1 = VotingClassifier(estimators=[('xgb', clf), ('ann', ann)], voting='soft')\n",
    "hclf1.fit(X_train, y_train)\n",
    "y_pred = hclf1.predict(X_test)\n",
    "\n",
    "hy1_acc = accuracy_score(y_pred, y_test)\n",
    "hy1_prec = precision_score(y_pred, y_test,average='weighted')\n",
    "hy1_rec = recall_score(y_pred, y_test,average='weighted')\n",
    "hy1_f1 = f1_score(y_pred, y_test,average='weighted')\n",
    "hy1_roc = roc_auc_score(y_test, hclf.predict_proba(X_test)[:, 1])\n",
    "hy1_spec = specificity_score(y_pred, y_test,average='weighted')\n",
    "hy1_sens = sensitivity_score(y_pred, y_test,average='weighted')"
   ]
  },
  {
   "cell_type": "code",
   "execution_count": 45,
   "metadata": {},
   "outputs": [],
   "source": [
    "storeResults('Hybrid Model - Opt by PSO',hy1_acc,hy1_prec,hy1_rec,hy1_f1,hy1_roc,hy1_spec,hy1_sens)"
   ]
  },
  {
   "cell_type": "markdown",
   "metadata": {},
   "source": [
    "# Voting Classifier"
   ]
  },
  {
   "cell_type": "code",
   "execution_count": 46,
   "metadata": {},
   "outputs": [],
   "source": [
    "clf1 = BaggingClassifier(RandomForestClassifier(),n_estimators=10, random_state=0)\n",
    "clf2 = DecisionTreeClassifier(random_state=10)\n",
    "\n",
    "eclf2 = VotingClassifier(estimators=[('bagging', clf1), ('dt', clf2)], voting='soft')\n",
    "eclf2.fit(X_train, y_train)\n",
    "y_pred = eclf2.predict(X_test)\n",
    "\n",
    "vot1_acc = accuracy_score(y_pred, y_test)\n",
    "vot1_prec = precision_score(y_pred, y_test,average='weighted')\n",
    "vot1_rec = recall_score(y_pred, y_test,average='weighted')\n",
    "vot1_f1 = f1_score(y_pred, y_test,average='weighted')\n",
    "vot1_roc = roc_auc_score(y_test, eclf1.predict_proba(X_test)[:, 1])\n",
    "vot1_spec = specificity_score(y_pred, y_test,average='weighted')\n",
    "vot1_sens = sensitivity_score(y_pred, y_test,average='weighted')"
   ]
  },
  {
   "cell_type": "code",
   "execution_count": 47,
   "metadata": {},
   "outputs": [],
   "source": [
    "storeResults('Voting Classifier - Opt by PSO',vot1_acc,vot1_prec,vot1_rec,vot1_f1,vot1_roc,vot1_spec, vot1_sens)"
   ]
  },
  {
   "cell_type": "markdown",
   "metadata": {},
   "source": [
    "# Comparison"
   ]
  },
  {
   "cell_type": "code",
   "execution_count": 48,
   "metadata": {},
   "outputs": [],
   "source": [
    "#creating dataframe\n",
    "import pandas as pd\n",
    "import numpy as np\n",
    "result = pd.DataFrame({ 'ML Model' : ML_Model,\n",
    "                        'Accuracy' : accuracy,\n",
    "                        'f1_score' : f1score,\n",
    "                        'Recall'   : recall,\n",
    "                        'Precision': precision,\n",
    "                        'AUC' : roc,\n",
    "                        'Specificity' : spec,\n",
    "                        'Sensitivity' : sens\n",
    "                      })"
   ]
  },
  {
   "cell_type": "code",
   "execution_count": 49,
   "metadata": {},
   "outputs": [
    {
     "data": {
      "text/html": [
       "<div>\n",
       "<style scoped>\n",
       "    .dataframe tbody tr th:only-of-type {\n",
       "        vertical-align: middle;\n",
       "    }\n",
       "\n",
       "    .dataframe tbody tr th {\n",
       "        vertical-align: top;\n",
       "    }\n",
       "\n",
       "    .dataframe thead th {\n",
       "        text-align: right;\n",
       "    }\n",
       "</style>\n",
       "<table border=\"1\" class=\"dataframe\">\n",
       "  <thead>\n",
       "    <tr style=\"text-align: right;\">\n",
       "      <th></th>\n",
       "      <th>ML Model</th>\n",
       "      <th>Accuracy</th>\n",
       "      <th>f1_score</th>\n",
       "      <th>Recall</th>\n",
       "      <th>Precision</th>\n",
       "      <th>AUC</th>\n",
       "      <th>Specificity</th>\n",
       "      <th>Sensitivity</th>\n",
       "    </tr>\n",
       "  </thead>\n",
       "  <tbody>\n",
       "    <tr>\n",
       "      <th>0</th>\n",
       "      <td>RF- Opt by GA</td>\n",
       "      <td>0.980</td>\n",
       "      <td>0.990</td>\n",
       "      <td>0.980</td>\n",
       "      <td>1.000</td>\n",
       "      <td>0.831</td>\n",
       "      <td>0.000</td>\n",
       "      <td>0.980</td>\n",
       "    </tr>\n",
       "    <tr>\n",
       "      <th>1</th>\n",
       "      <td>SVM - Opt by GA</td>\n",
       "      <td>0.980</td>\n",
       "      <td>0.000</td>\n",
       "      <td>0.000</td>\n",
       "      <td>0.000</td>\n",
       "      <td>0.376</td>\n",
       "      <td>0.000</td>\n",
       "      <td>0.980</td>\n",
       "    </tr>\n",
       "    <tr>\n",
       "      <th>2</th>\n",
       "      <td>XGB - Opt by GA</td>\n",
       "      <td>0.980</td>\n",
       "      <td>0.000</td>\n",
       "      <td>0.000</td>\n",
       "      <td>0.000</td>\n",
       "      <td>0.834</td>\n",
       "      <td>0.000</td>\n",
       "      <td>0.980</td>\n",
       "    </tr>\n",
       "    <tr>\n",
       "      <th>3</th>\n",
       "      <td>ANN - Opt by GA</td>\n",
       "      <td>0.980</td>\n",
       "      <td>0.971</td>\n",
       "      <td>0.980</td>\n",
       "      <td>0.961</td>\n",
       "      <td>0.249</td>\n",
       "      <td>0.000</td>\n",
       "      <td>0.980</td>\n",
       "    </tr>\n",
       "    <tr>\n",
       "      <th>4</th>\n",
       "      <td>Hybrid Model - Opt by GA</td>\n",
       "      <td>0.980</td>\n",
       "      <td>0.990</td>\n",
       "      <td>0.980</td>\n",
       "      <td>1.000</td>\n",
       "      <td>0.700</td>\n",
       "      <td>0.000</td>\n",
       "      <td>0.980</td>\n",
       "    </tr>\n",
       "    <tr>\n",
       "      <th>5</th>\n",
       "      <td>Voting Classifier - Opt by GA</td>\n",
       "      <td>1.000</td>\n",
       "      <td>1.000</td>\n",
       "      <td>1.000</td>\n",
       "      <td>1.000</td>\n",
       "      <td>1.000</td>\n",
       "      <td>1.000</td>\n",
       "      <td>1.000</td>\n",
       "    </tr>\n",
       "    <tr>\n",
       "      <th>6</th>\n",
       "      <td>RF - Opt by PSO</td>\n",
       "      <td>0.979</td>\n",
       "      <td>0.988</td>\n",
       "      <td>0.979</td>\n",
       "      <td>0.998</td>\n",
       "      <td>0.766</td>\n",
       "      <td>0.001</td>\n",
       "      <td>0.979</td>\n",
       "    </tr>\n",
       "    <tr>\n",
       "      <th>7</th>\n",
       "      <td>SVC - Opt by PSO</td>\n",
       "      <td>0.980</td>\n",
       "      <td>0.000</td>\n",
       "      <td>0.000</td>\n",
       "      <td>0.000</td>\n",
       "      <td>0.376</td>\n",
       "      <td>0.000</td>\n",
       "      <td>0.980</td>\n",
       "    </tr>\n",
       "    <tr>\n",
       "      <th>8</th>\n",
       "      <td>XGB - Opt by PSO</td>\n",
       "      <td>0.977</td>\n",
       "      <td>0.000</td>\n",
       "      <td>0.000</td>\n",
       "      <td>0.000</td>\n",
       "      <td>0.826</td>\n",
       "      <td>0.004</td>\n",
       "      <td>0.980</td>\n",
       "    </tr>\n",
       "    <tr>\n",
       "      <th>9</th>\n",
       "      <td>ANN - Opt by PSO</td>\n",
       "      <td>0.980</td>\n",
       "      <td>0.971</td>\n",
       "      <td>0.980</td>\n",
       "      <td>0.961</td>\n",
       "      <td>0.579</td>\n",
       "      <td>0.000</td>\n",
       "      <td>0.980</td>\n",
       "    </tr>\n",
       "    <tr>\n",
       "      <th>10</th>\n",
       "      <td>Hybrid Model - Opt by PSO</td>\n",
       "      <td>0.978</td>\n",
       "      <td>0.986</td>\n",
       "      <td>0.978</td>\n",
       "      <td>0.995</td>\n",
       "      <td>0.700</td>\n",
       "      <td>0.002</td>\n",
       "      <td>0.978</td>\n",
       "    </tr>\n",
       "    <tr>\n",
       "      <th>11</th>\n",
       "      <td>Voting Classifier - Opt by PSO</td>\n",
       "      <td>1.000</td>\n",
       "      <td>1.000</td>\n",
       "      <td>1.000</td>\n",
       "      <td>1.000</td>\n",
       "      <td>1.000</td>\n",
       "      <td>1.000</td>\n",
       "      <td>1.000</td>\n",
       "    </tr>\n",
       "  </tbody>\n",
       "</table>\n",
       "</div>"
      ],
      "text/plain": [
       "                          ML Model  Accuracy  f1_score  Recall  Precision  \\\n",
       "0                    RF- Opt by GA     0.980     0.990   0.980      1.000   \n",
       "1                  SVM - Opt by GA     0.980     0.000   0.000      0.000   \n",
       "2                  XGB - Opt by GA     0.980     0.000   0.000      0.000   \n",
       "3                  ANN - Opt by GA     0.980     0.971   0.980      0.961   \n",
       "4         Hybrid Model - Opt by GA     0.980     0.990   0.980      1.000   \n",
       "5    Voting Classifier - Opt by GA     1.000     1.000   1.000      1.000   \n",
       "6                  RF - Opt by PSO     0.979     0.988   0.979      0.998   \n",
       "7                 SVC - Opt by PSO     0.980     0.000   0.000      0.000   \n",
       "8                 XGB - Opt by PSO     0.977     0.000   0.000      0.000   \n",
       "9                 ANN - Opt by PSO     0.980     0.971   0.980      0.961   \n",
       "10       Hybrid Model - Opt by PSO     0.978     0.986   0.978      0.995   \n",
       "11  Voting Classifier - Opt by PSO     1.000     1.000   1.000      1.000   \n",
       "\n",
       "      AUC  Specificity  Sensitivity  \n",
       "0   0.831        0.000        0.980  \n",
       "1   0.376        0.000        0.980  \n",
       "2   0.834        0.000        0.980  \n",
       "3   0.249        0.000        0.980  \n",
       "4   0.700        0.000        0.980  \n",
       "5   1.000        1.000        1.000  \n",
       "6   0.766        0.001        0.979  \n",
       "7   0.376        0.000        0.980  \n",
       "8   0.826        0.004        0.980  \n",
       "9   0.579        0.000        0.980  \n",
       "10  0.700        0.002        0.978  \n",
       "11  1.000        1.000        1.000  "
      ]
     },
     "execution_count": 49,
     "metadata": {},
     "output_type": "execute_result"
    }
   ],
   "source": [
    "result"
   ]
  },
  {
   "cell_type": "markdown",
   "metadata": {},
   "source": [
    "# Modelling"
   ]
  },
  {
   "cell_type": "code",
   "execution_count": 50,
   "metadata": {},
   "outputs": [
    {
     "data": {
      "text/plain": [
       "['model_pso.sav']"
      ]
     },
     "execution_count": 50,
     "metadata": {},
     "output_type": "execute_result"
    }
   ],
   "source": [
    "import joblib\n",
    "filename1 = 'model_ga.sav'\n",
    "filename2 = 'model_pso.sav'\n",
    "joblib.dump(eclf1, filename1)\n",
    "joblib.dump(eclf2, filename2)"
   ]
  },
  {
   "cell_type": "markdown",
   "metadata": {},
   "source": [
    "# Graph"
   ]
  },
  {
   "cell_type": "code",
   "execution_count": 52,
   "metadata": {},
   "outputs": [],
   "source": [
    "classifier = ML_Model\n",
    "y_pos = np.arange(len(classifier))"
   ]
  },
  {
   "cell_type": "markdown",
   "metadata": {},
   "source": [
    "# Accuracy"
   ]
  },
  {
   "cell_type": "code",
   "execution_count": 53,
   "metadata": {},
   "outputs": [
    {
     "data": {
      "image/png": "[encoded data removed]",
      "text/plain": [
       "<Figure size 432x288 with 1 Axes>"
      ]
     },
     "metadata": {
      "needs_background": "light"
     },
     "output_type": "display_data"
    }
   ],
   "source": [
    "import matplotlib.pyplot as plt2\n",
    "plt2.barh(y_pos, accuracy, align='center', alpha=0.5,color='blue')\n",
    "plt2.yticks(y_pos, classifier)\n",
    "plt2.xlabel('Accuracy Score')\n",
    "plt2.title('Classification Performance')\n",
    "plt2.show()"
   ]
  },
  {
   "cell_type": "markdown",
   "metadata": {},
   "source": [
    "# Precision"
   ]
  },
  {
   "cell_type": "code",
   "execution_count": 54,
   "metadata": {},
   "outputs": [
    {
     "data": {
      "image/png": "[encoded data removed]",
      "text/plain": [
       "<Figure size 432x288 with 1 Axes>"
      ]
     },
     "metadata": {
      "needs_background": "light"
     },
     "output_type": "display_data"
    }
   ],
   "source": [
    "plt2.barh(y_pos, precision, align='center', alpha=0.5,color='red')\n",
    "plt2.yticks(y_pos, classifier)\n",
    "plt2.xlabel('Precision Score')\n",
    "plt2.title('Classification Performance')\n",
    "plt2.show()"
   ]
  },
  {
   "cell_type": "markdown",
   "metadata": {},
   "source": [
    "# Recall"
   ]
  },
  {
   "cell_type": "code",
   "execution_count": 55,
   "metadata": {},
   "outputs": [
    {
     "data": {
      "image/png": "[encoded data removed]",
      "text/plain": [
       "<Figure size 432x288 with 1 Axes>"
      ]
     },
     "metadata": {
      "needs_background": "light"
     },
     "output_type": "display_data"
    }
   ],
   "source": [
    "plt2.barh(y_pos, recall, align='center', alpha=0.5,color='yellow')\n",
    "plt2.yticks(y_pos, classifier)\n",
    "plt2.xlabel('Recall Score')\n",
    "plt2.title('Classification Performance')\n",
    "plt2.show()"
   ]
  },
  {
   "cell_type": "markdown",
   "metadata": {},
   "source": [
    "# F1-Score"
   ]
  },
  {
   "cell_type": "code",
   "execution_count": 56,
   "metadata": {},
   "outputs": [
    {
     "data": {
      "image/png": "[encoded data removed]",
      "text/plain": [
       "<Figure size 432x288 with 1 Axes>"
      ]
     },
     "metadata": {
      "needs_background": "light"
     },
     "output_type": "display_data"
    }
   ],
   "source": [
    "plt2.barh(y_pos, f1score, align='center', alpha=0.5,color='navy')\n",
    "plt2.yticks(y_pos, classifier)\n",
    "plt2.xlabel('F1 Score')\n",
    "plt2.title('Classification Performance')\n",
    "plt2.show()"
   ]
  },
  {
   "cell_type": "markdown",
   "metadata": {},
   "source": [
    "# AUC"
   ]
  },
  {
   "cell_type": "code",
   "execution_count": 57,
   "metadata": {},
   "outputs": [
    {
     "data": {
      "image/png": "[encoded data removed]",
      "text/plain": [
       "<Figure size 432x288 with 1 Axes>"
      ]
     },
     "metadata": {
      "needs_background": "light"
     },
     "output_type": "display_data"
    }
   ],
   "source": [
    "plt2.barh(y_pos, roc, align='center', alpha=0.5,color='orange')\n",
    "plt2.yticks(y_pos, classifier)\n",
    "plt2.xlabel('ROC_AUC Score')\n",
    "plt2.title('Classification Performance')\n",
    "plt2.show()"
   ]
  },
  {
   "cell_type": "markdown",
   "metadata": {},
   "source": [
    "# Sensitivity"
   ]
  },
  {
   "cell_type": "code",
   "execution_count": 58,
   "metadata": {},
   "outputs": [
    {
     "data": {
      "image/png": "[encoded data removed]",
      "text/plain": [
       "<Figure size 432x288 with 1 Axes>"
      ]
     },
     "metadata": {
      "needs_background": "light"
     },
     "output_type": "display_data"
    }
   ],
   "source": [
    "plt2.barh(y_pos, sens, align='center', alpha=0.5,color='brown')\n",
    "plt2.yticks(y_pos, classifier)\n",
    "plt2.xlabel('Senstivity Score')\n",
    "plt2.title('Classification Performance')\n",
    "plt2.show()"
   ]
  },
  {
   "cell_type": "markdown",
   "metadata": {},
   "source": [
    "# With All Feature"
   ]
  },
  {
   "cell_type": "code",
   "execution_count": 60,
   "metadata": {},
   "outputs": [],
   "source": [
    "from scipy.io.arff import loadarff \n",
    "\n",
    "raw_data = loadarff('data/2year.arff')\n",
    "df = pd.DataFrame(raw_data[0])"
   ]
  },
  {
   "cell_type": "code",
   "execution_count": 61,
   "metadata": {},
   "outputs": [],
   "source": [
    "df = df.dropna()"
   ]
  },
  {
   "cell_type": "code",
   "execution_count": 62,
   "metadata": {},
   "outputs": [],
   "source": [
    "# Import label encoder \n",
    "from sklearn import preprocessing \n",
    "\n",
    "# label_encoder object knows \n",
    "# how to understand word labels. \n",
    "label_encoder = preprocessing.LabelEncoder() \n",
    "\n",
    "# Encode labels in column 'species'. \n",
    "df['class']= label_encoder.fit_transform(df['class']) "
   ]
  },
  {
   "cell_type": "code",
   "execution_count": 63,
   "metadata": {},
   "outputs": [],
   "source": [
    "X = df[['Attr1', 'Attr2', 'Attr3', 'Attr4', 'Attr5', 'Attr6', 'Attr7', 'Attr8',\n",
    "       'Attr9', 'Attr10', 'Attr11', 'Attr12', 'Attr13', 'Attr14', 'Attr15',\n",
    "       'Attr16', 'Attr17', 'Attr18', 'Attr19', 'Attr20', 'Attr21', 'Attr22',\n",
    "       'Attr23', 'Attr24', 'Attr25', 'Attr26', 'Attr27', 'Attr28', 'Attr29',\n",
    "       'Attr30', 'Attr31', 'Attr32', 'Attr33', 'Attr34', 'Attr35', 'Attr36',\n",
    "       'Attr37', 'Attr38', 'Attr39', 'Attr40', 'Attr41', 'Attr42', 'Attr43',\n",
    "       'Attr44', 'Attr45', 'Attr46', 'Attr47', 'Attr48', 'Attr49', 'Attr50',\n",
    "       'Attr51', 'Attr52', 'Attr53', 'Attr54', 'Attr55', 'Attr56', 'Attr57',\n",
    "       'Attr58', 'Attr59', 'Attr60', 'Attr61', 'Attr62', 'Attr63', 'Attr64',]]\n",
    "y = df['class']"
   ]
  },
  {
   "cell_type": "code",
   "execution_count": 64,
   "metadata": {},
   "outputs": [],
   "source": [
    "from sklearn.model_selection import train_test_split\n",
    "# splitting the dataset 80% for training and 20% testing\n",
    "X_train, X_test, y_train, y_test = train_test_split(X_reduced,y, test_size=0.20, random_state=42)"
   ]
  },
  {
   "cell_type": "code",
   "execution_count": 87,
   "metadata": {},
   "outputs": [],
   "source": [
    "ML_Model = []\n",
    "accuracy = []\n",
    "precision = []\n",
    "recall = []\n",
    "f1score = []\n",
    "roc = []\n",
    "spec = []\n",
    "sens = []\n",
    "\n",
    "#function to call for storing the results\n",
    "def storeResults(model, a,b,c,d,e,f,g):\n",
    "    ML_Model.append(model)\n",
    "    accuracy.append(round(a, 3))\n",
    "    precision.append(round(b, 3))\n",
    "    recall.append(round(c, 3))\n",
    "    f1score.append(round(d, 3))\n",
    "    roc.append(round(e, 3))\n",
    "    spec.append(round(f, 3))\n",
    "    sens.append(round(g, 3))"
   ]
  },
  {
   "cell_type": "markdown",
   "metadata": {},
   "source": [
    "# With The optimal hyperparameter using GA."
   ]
  },
  {
   "cell_type": "markdown",
   "metadata": {},
   "source": [
    "# Random Forest"
   ]
  },
  {
   "cell_type": "code",
   "execution_count": 65,
   "metadata": {},
   "outputs": [],
   "source": [
    "from sklearn.ensemble import RandomForestClassifier\n",
    "\n",
    "clf = RandomForestClassifier(n_estimators=100,max_depth=1)\n",
    "\n",
    "clf.fit(X_train, y_train)\n",
    "\n",
    "y_pred = clf.predict(X_test)\n",
    "\n",
    "rf_acc = accuracy_score(y_pred, y_test)\n",
    "rf_prec = precision_score(y_pred, y_test,average='weighted')\n",
    "rf_rec = recall_score(y_pred, y_test,average='weighted')\n",
    "rf_f1 = f1_score(y_pred, y_test,average='weighted')\n",
    "rf_roc = roc_auc_score(y_test, clf.predict_proba(X_test)[:, 1])\n",
    "rf_spec = specificity_score(y_pred, y_test,average='weighted')\n",
    "rf_sens = sensitivity_score(y_pred, y_test,average='weighted')"
   ]
  },
  {
   "cell_type": "code",
   "execution_count": 88,
   "metadata": {},
   "outputs": [],
   "source": [
    "storeResults('RF- Opt by GA',rf_acc,rf_prec,rf_rec,rf_f1,rf_roc,rf_spec,rf_sens)"
   ]
  },
  {
   "cell_type": "markdown",
   "metadata": {},
   "source": [
    "# SVM"
   ]
  },
  {
   "cell_type": "code",
   "execution_count": 67,
   "metadata": {},
   "outputs": [],
   "source": [
    "from sklearn.svm import SVC\n",
    "\n",
    "clf = SVC(probability=True,kernel='linear',C=10.0,gamma=0.1)\n",
    "# fit the model   \n",
    "clf.fit(X_train, y_train)\n",
    "\n",
    "y_pred = clf.predict(X_test)\n",
    "\n",
    "svc_acc = accuracy_score(y_pred, y_test)\n",
    "svc_prec = precision_score(y_pred, y_test)\n",
    "svc_rec = recall_score(y_pred, y_test)\n",
    "svc_f1 = f1_score(y_pred, y_test)\n",
    "svc_roc = roc_auc_score(y_test, clf.predict_proba(X_test)[:, 1])\n",
    "svc_spec = specificity_score(y_pred, y_test,average='weighted')\n",
    "svc_sens = sensitivity_score(y_pred, y_test,average='weighted')"
   ]
  },
  {
   "cell_type": "code",
   "execution_count": 89,
   "metadata": {},
   "outputs": [],
   "source": [
    "storeResults('SVM - Opt by GA',svc_acc,svc_prec,svc_rec,svc_f1,svc_roc,svc_spec,svc_sens)"
   ]
  },
  {
   "cell_type": "markdown",
   "metadata": {},
   "source": [
    "# XGBoost"
   ]
  },
  {
   "cell_type": "code",
   "execution_count": 69,
   "metadata": {},
   "outputs": [],
   "source": [
    "from xgboost import XGBClassifier\n",
    "\n",
    "clf = XGBClassifier(learning_rate=0.1,gamma=1)\n",
    "# fit the model   \n",
    "clf.fit(X_train, y_train)\n",
    "\n",
    "y_pred = clf.predict(X_test)\n",
    "\n",
    "xgb_acc = accuracy_score(y_pred, y_test)\n",
    "xgb_prec = precision_score(y_pred, y_test)\n",
    "xgb_rec = recall_score(y_pred, y_test)\n",
    "xgb_f1 = f1_score(y_pred, y_test)\n",
    "xgb_roc = roc_auc_score(y_test, clf.predict_proba(X_test)[:, 1])\n",
    "xgb_spec = specificity_score(y_pred, y_test,average='weighted')\n",
    "xgb_sens = sensitivity_score(y_pred, y_test,average='weighted')"
   ]
  },
  {
   "cell_type": "code",
   "execution_count": 90,
   "metadata": {},
   "outputs": [],
   "source": [
    "storeResults('XGB - Opt by GA',xgb_acc,xgb_prec,xgb_rec,xgb_f1,xgb_roc,xgb_spec,xgb_sens)"
   ]
  },
  {
   "cell_type": "markdown",
   "metadata": {},
   "source": [
    "# ANN-MLP"
   ]
  },
  {
   "cell_type": "code",
   "execution_count": 71,
   "metadata": {},
   "outputs": [],
   "source": [
    "from sklearn.neural_network import MLPClassifier\n",
    "ann = MLPClassifier(hidden_layer_sizes=(50,),activation='relu',learning_rate='adaptive')\n",
    "ann.fit(X_train, y_train) \n",
    "y_pred = ann.predict(X_test)\n",
    "\n",
    "ann_acc = accuracy_score(y_test, y_pred)\n",
    "ann_prec = precision_score(y_test, y_pred,average='weighted')\n",
    "ann_rec = recall_score(y_test, y_pred,average='weighted')\n",
    "ann_f1 = f1_score(y_test, y_pred,average='weighted')\n",
    "ann_roc = roc_auc_score(y_test, ann.predict_proba(X_test)[:, 1])\n",
    "ann_spec = specificity_score(y_pred, y_test,average='weighted')\n",
    "ann_sens = sensitivity_score(y_pred, y_test,average='weighted')"
   ]
  },
  {
   "cell_type": "code",
   "execution_count": 91,
   "metadata": {},
   "outputs": [],
   "source": [
    "storeResults('ANN - Opt by GA',ann_acc,ann_prec,ann_rec,ann_f1,ann_roc,ann_spec,ann_sens)"
   ]
  },
  {
   "cell_type": "markdown",
   "metadata": {},
   "source": [
    "# Hybird Model"
   ]
  },
  {
   "cell_type": "code",
   "execution_count": 73,
   "metadata": {},
   "outputs": [],
   "source": [
    "from sklearn.ensemble import RandomForestClassifier, VotingClassifier\n",
    "from sklearn.tree import DecisionTreeClassifier"
   ]
  },
  {
   "cell_type": "code",
   "execution_count": 74,
   "metadata": {},
   "outputs": [],
   "source": [
    "hclf = VotingClassifier(estimators=[('xgb', clf), ('ann', ann)], voting='soft')\n",
    "hclf.fit(X_train, y_train)\n",
    "y_pred = hclf.predict(X_test)\n",
    "\n",
    "hy_acc = accuracy_score(y_pred, y_test)\n",
    "hy_prec = precision_score(y_pred, y_test,average='weighted')\n",
    "hy_rec = recall_score(y_pred, y_test,average='weighted')\n",
    "hy_f1 = f1_score(y_pred, y_test,average='weighted')\n",
    "hy_roc = roc_auc_score(y_test, hclf.predict_proba(X_test)[:, 1])\n",
    "hy_spec = specificity_score(y_pred, y_test,average='weighted')\n",
    "hy_sens = sensitivity_score(y_pred, y_test,average='weighted')"
   ]
  },
  {
   "cell_type": "code",
   "execution_count": 92,
   "metadata": {},
   "outputs": [],
   "source": [
    "storeResults('Hybrid Model - Opt by GA',hy_acc,hy_prec,hy_rec,hy_f1,hy_roc,hy_spec,hy_sens)"
   ]
  },
  {
   "cell_type": "markdown",
   "metadata": {},
   "source": [
    "# Voting Classifier"
   ]
  },
  {
   "cell_type": "code",
   "execution_count": 76,
   "metadata": {},
   "outputs": [],
   "source": [
    "from sklearn.ensemble import BaggingClassifier\n",
    "\n",
    "clf1 = BaggingClassifier(RandomForestClassifier(),n_estimators=10, random_state=0)\n",
    "clf2 = DecisionTreeClassifier(random_state=10)\n",
    "\n",
    "eclf1 = VotingClassifier(estimators=[('bagging', clf1), ('dt', clf2)], voting='soft')\n",
    "eclf1.fit(X_train, y_train)\n",
    "y_pred = eclf1.predict(X_test)\n",
    "\n",
    "vot_acc = accuracy_score(y_pred, y_test)\n",
    "vot_prec = precision_score(y_pred, y_test,average='weighted')\n",
    "vot_rec = recall_score(y_pred, y_test,average='weighted')\n",
    "vot_f1 = f1_score(y_pred, y_test,average='weighted')\n",
    "vot_roc = roc_auc_score(y_test, eclf1.predict_proba(X_test)[:, 1])\n",
    "vot_spec = specificity_score(y_pred, y_test,average='weighted')\n",
    "vot_sens = sensitivity_score(y_pred, y_test,average='weighted')"
   ]
  },
  {
   "cell_type": "code",
   "execution_count": 93,
   "metadata": {},
   "outputs": [],
   "source": [
    "storeResults('Voting Classifier - Opt by GA',vot_acc,vot_prec,vot_rec,vot_f1,vot_roc,vot_spec,vot_sens)"
   ]
  },
  {
   "cell_type": "markdown",
   "metadata": {},
   "source": [
    "# With The optimal hyperparameter using PSO."
   ]
  },
  {
   "cell_type": "markdown",
   "metadata": {},
   "source": [
    "# Random Forest"
   ]
  },
  {
   "cell_type": "code",
   "execution_count": 94,
   "metadata": {},
   "outputs": [],
   "source": [
    "from sklearn.ensemble import RandomForestClassifier\n",
    "\n",
    "clf = RandomForestClassifier(n_estimators=40,max_depth=14)\n",
    "\n",
    "clf.fit(X_train, y_train)\n",
    "\n",
    "y_pred = clf.predict(X_test)\n",
    "\n",
    "rf1_acc = accuracy_score(y_pred, y_test)\n",
    "rf1_prec = precision_score(y_pred, y_test,average='weighted')\n",
    "rf1_rec = recall_score(y_pred, y_test,average='weighted')\n",
    "rf1_f1 = f1_score(y_pred, y_test,average='weighted')\n",
    "rf1_roc = roc_auc_score(y_test, clf.predict_proba(X_test)[:, 1])\n",
    "rf1_spec = specificity_score(y_pred, y_test,average='weighted')\n",
    "rf1_sens = sensitivity_score(y_pred, y_test,average='weighted')\n",
    "\n",
    "storeResults('RF - Opt by PSO',rf1_acc,rf1_prec,rf1_rec,rf1_f1,rf1_roc,rf1_spec,rf1_sens)"
   ]
  },
  {
   "cell_type": "markdown",
   "metadata": {},
   "source": [
    "# SVM"
   ]
  },
  {
   "cell_type": "code",
   "execution_count": 95,
   "metadata": {},
   "outputs": [],
   "source": [
    "from sklearn.svm import SVC\n",
    "\n",
    "clf = SVC(probability=True,kernel='linear',C=9.825,gamma=0.084)\n",
    "# fit the model   \n",
    "clf.fit(X_train, y_train)\n",
    "\n",
    "y_pred = clf.predict(X_test)\n",
    "\n",
    "svc1_acc = accuracy_score(y_pred, y_test)\n",
    "svc1_prec = precision_score(y_pred, y_test)\n",
    "svc1_rec = recall_score(y_pred, y_test)\n",
    "svc1_f1 = f1_score(y_pred, y_test)\n",
    "svc1_roc = roc_auc_score(y_test, clf.predict_proba(X_test)[:, 1])\n",
    "svc1_spec = specificity_score(y_pred, y_test,average='weighted')\n",
    "svc1_sens = sensitivity_score(y_pred, y_test,average='weighted')\n",
    "\n",
    "storeResults('SVC - Opt by PSO',svc1_acc,svc1_prec,svc1_rec,svc1_f1,svc1_roc,svc1_spec,svc1_sens)"
   ]
  },
  {
   "cell_type": "markdown",
   "metadata": {},
   "source": [
    "# XGBoost"
   ]
  },
  {
   "cell_type": "code",
   "execution_count": 80,
   "metadata": {},
   "outputs": [],
   "source": [
    "clf = XGBClassifier(learning_rate=1.0,gamma=0.001)\n",
    "# fit the model   \n",
    "clf.fit(X_train, y_train)\n",
    "\n",
    "y_pred = clf.predict(X_test)\n",
    "\n",
    "xgb1_acc = accuracy_score(y_pred, y_test)\n",
    "xgb1_prec = precision_score(y_pred, y_test)\n",
    "xgb1_rec = recall_score(y_pred, y_test)\n",
    "xgb1_f1 = f1_score(y_pred, y_test)\n",
    "xgb1_roc = roc_auc_score(y_test, clf.predict_proba(X_test)[:, 1])\n",
    "xgb1_spec = specificity_score(y_pred, y_test,average='weighted')\n",
    "xgb1_sens = sensitivity_score(y_pred, y_test,average='weighted')"
   ]
  },
  {
   "cell_type": "code",
   "execution_count": 96,
   "metadata": {},
   "outputs": [],
   "source": [
    "storeResults('XGB - Opt by PSO',xgb1_acc,xgb1_prec,xgb1_rec,xgb1_f1,xgb1_roc,xgb1_spec,xgb_sens)"
   ]
  },
  {
   "cell_type": "markdown",
   "metadata": {},
   "source": [
    "# ANN-MLP"
   ]
  },
  {
   "cell_type": "code",
   "execution_count": 97,
   "metadata": {},
   "outputs": [],
   "source": [
    "ann = MLPClassifier(hidden_layer_sizes=(38,),activation='tanh',learning_rate='constant')\n",
    "ann.fit(X_train, y_train) \n",
    "y_pred = ann.predict(X_test)\n",
    "\n",
    "ann1_acc = accuracy_score(y_test, y_pred)\n",
    "ann1_prec = precision_score(y_test, y_pred,average='weighted')\n",
    "ann1_rec = recall_score(y_test, y_pred,average='weighted')\n",
    "ann1_f1 = f1_score(y_test, y_pred,average='weighted')\n",
    "ann1_roc = roc_auc_score(y_test, ann.predict_proba(X_test)[:, 1])\n",
    "ann1_spec = specificity_score(y_pred, y_test,average='weighted')\n",
    "ann1_sens = sensitivity_score(y_pred, y_test,average='weighted')\n",
    "\n",
    "storeResults('ANN - Opt by PSO',ann1_acc,ann1_prec,ann1_rec,ann1_f1,ann1_roc,ann1_spec,ann1_sens)"
   ]
  },
  {
   "cell_type": "markdown",
   "metadata": {},
   "source": [
    "# Hybrid Model"
   ]
  },
  {
   "cell_type": "code",
   "execution_count": 98,
   "metadata": {},
   "outputs": [],
   "source": [
    "hclf1 = VotingClassifier(estimators=[('xgb', clf), ('ann', ann)], voting='soft')\n",
    "hclf1.fit(X_train, y_train)\n",
    "y_pred = hclf1.predict(X_test)\n",
    "\n",
    "hy1_acc = accuracy_score(y_pred, y_test)\n",
    "hy1_prec = precision_score(y_pred, y_test,average='weighted')\n",
    "hy1_rec = recall_score(y_pred, y_test,average='weighted')\n",
    "hy1_f1 = f1_score(y_pred, y_test,average='weighted')\n",
    "hy1_roc = roc_auc_score(y_test, hclf.predict_proba(X_test)[:, 1])\n",
    "hy1_spec = specificity_score(y_pred, y_test,average='weighted')\n",
    "hy1_sens = sensitivity_score(y_pred, y_test,average='weighted')\n",
    "\n",
    "storeResults('Hybrid Model - Opt by PSO',hy1_acc,hy1_prec,hy1_rec,hy1_f1,hy1_roc,hy1_spec,hy1_sens)"
   ]
  },
  {
   "cell_type": "markdown",
   "metadata": {},
   "source": [
    "# Voting Classifier"
   ]
  },
  {
   "cell_type": "code",
   "execution_count": 99,
   "metadata": {},
   "outputs": [],
   "source": [
    "clf1 = BaggingClassifier(RandomForestClassifier(),n_estimators=10, random_state=0)\n",
    "clf2 = DecisionTreeClassifier(random_state=10)\n",
    "\n",
    "eclf2 = VotingClassifier(estimators=[('bagging', clf1), ('dt', clf2)], voting='soft')\n",
    "eclf2.fit(X_train, y_train)\n",
    "y_pred = eclf2.predict(X_test)\n",
    "\n",
    "vot1_acc = accuracy_score(y_pred, y_test)\n",
    "vot1_prec = precision_score(y_pred, y_test,average='weighted')\n",
    "vot1_rec = recall_score(y_pred, y_test,average='weighted')\n",
    "vot1_f1 = f1_score(y_pred, y_test,average='weighted')\n",
    "vot1_roc = roc_auc_score(y_test, eclf1.predict_proba(X_test)[:, 1])\n",
    "vot1_spec = specificity_score(y_pred, y_test,average='weighted')\n",
    "vot1_sens = sensitivity_score(y_pred, y_test,average='weighted')\n",
    "\n",
    "storeResults('Voting Classifier - Opt by PSO',vot1_acc,vot1_prec,vot1_rec,vot1_f1,vot1_roc,vot1_spec, vot1_sens)"
   ]
  },
  {
   "cell_type": "markdown",
   "metadata": {},
   "source": [
    "# Comparison"
   ]
  },
  {
   "cell_type": "code",
   "execution_count": 100,
   "metadata": {},
   "outputs": [],
   "source": [
    "#creating dataframe\n",
    "import pandas as pd\n",
    "import numpy as np\n",
    "result = pd.DataFrame({ 'ML Model' : ML_Model,\n",
    "                        'Accuracy' : accuracy,\n",
    "                        'f1_score' : f1score,\n",
    "                        'Recall'   : recall,\n",
    "                        'Precision': precision,\n",
    "                        'AUC' : roc,\n",
    "                        'Specificity' : spec,\n",
    "                        'Sensitivity' : sens\n",
    "                      })"
   ]
  },
  {
   "cell_type": "code",
   "execution_count": 101,
   "metadata": {},
   "outputs": [
    {
     "data": {
      "text/html": [
       "<div>\n",
       "<style scoped>\n",
       "    .dataframe tbody tr th:only-of-type {\n",
       "        vertical-align: middle;\n",
       "    }\n",
       "\n",
       "    .dataframe tbody tr th {\n",
       "        vertical-align: top;\n",
       "    }\n",
       "\n",
       "    .dataframe thead th {\n",
       "        text-align: right;\n",
       "    }\n",
       "</style>\n",
       "<table border=\"1\" class=\"dataframe\">\n",
       "  <thead>\n",
       "    <tr style=\"text-align: right;\">\n",
       "      <th></th>\n",
       "      <th>ML Model</th>\n",
       "      <th>Accuracy</th>\n",
       "      <th>f1_score</th>\n",
       "      <th>Recall</th>\n",
       "      <th>Precision</th>\n",
       "      <th>AUC</th>\n",
       "      <th>Specificity</th>\n",
       "      <th>Sensitivity</th>\n",
       "    </tr>\n",
       "  </thead>\n",
       "  <tbody>\n",
       "    <tr>\n",
       "      <th>0</th>\n",
       "      <td>RF- Opt by GA</td>\n",
       "      <td>0.980</td>\n",
       "      <td>0.990</td>\n",
       "      <td>0.980</td>\n",
       "      <td>1.000</td>\n",
       "      <td>0.813</td>\n",
       "      <td>0.000</td>\n",
       "      <td>0.980</td>\n",
       "    </tr>\n",
       "    <tr>\n",
       "      <th>1</th>\n",
       "      <td>SVM - Opt by GA</td>\n",
       "      <td>0.980</td>\n",
       "      <td>0.000</td>\n",
       "      <td>0.000</td>\n",
       "      <td>0.000</td>\n",
       "      <td>0.624</td>\n",
       "      <td>0.000</td>\n",
       "      <td>0.980</td>\n",
       "    </tr>\n",
       "    <tr>\n",
       "      <th>2</th>\n",
       "      <td>XGB - Opt by GA</td>\n",
       "      <td>0.980</td>\n",
       "      <td>0.000</td>\n",
       "      <td>0.000</td>\n",
       "      <td>0.000</td>\n",
       "      <td>0.834</td>\n",
       "      <td>0.000</td>\n",
       "      <td>0.980</td>\n",
       "    </tr>\n",
       "    <tr>\n",
       "      <th>3</th>\n",
       "      <td>ANN - Opt by GA</td>\n",
       "      <td>0.980</td>\n",
       "      <td>0.973</td>\n",
       "      <td>0.980</td>\n",
       "      <td>0.972</td>\n",
       "      <td>0.284</td>\n",
       "      <td>0.501</td>\n",
       "      <td>0.980</td>\n",
       "    </tr>\n",
       "    <tr>\n",
       "      <th>4</th>\n",
       "      <td>Hybrid Model - Opt by GA</td>\n",
       "      <td>0.980</td>\n",
       "      <td>0.990</td>\n",
       "      <td>0.980</td>\n",
       "      <td>1.000</td>\n",
       "      <td>0.784</td>\n",
       "      <td>0.000</td>\n",
       "      <td>0.980</td>\n",
       "    </tr>\n",
       "    <tr>\n",
       "      <th>5</th>\n",
       "      <td>Voting Classifier - Opt by GA</td>\n",
       "      <td>0.962</td>\n",
       "      <td>0.962</td>\n",
       "      <td>0.962</td>\n",
       "      <td>0.961</td>\n",
       "      <td>0.821</td>\n",
       "      <td>0.078</td>\n",
       "      <td>0.962</td>\n",
       "    </tr>\n",
       "    <tr>\n",
       "      <th>6</th>\n",
       "      <td>RF - Opt by PSO</td>\n",
       "      <td>0.980</td>\n",
       "      <td>0.990</td>\n",
       "      <td>0.980</td>\n",
       "      <td>1.000</td>\n",
       "      <td>0.874</td>\n",
       "      <td>0.000</td>\n",
       "      <td>0.980</td>\n",
       "    </tr>\n",
       "    <tr>\n",
       "      <th>7</th>\n",
       "      <td>SVC - Opt by PSO</td>\n",
       "      <td>0.980</td>\n",
       "      <td>0.000</td>\n",
       "      <td>0.000</td>\n",
       "      <td>0.000</td>\n",
       "      <td>0.376</td>\n",
       "      <td>0.000</td>\n",
       "      <td>0.980</td>\n",
       "    </tr>\n",
       "    <tr>\n",
       "      <th>8</th>\n",
       "      <td>XGB - Opt by PSO</td>\n",
       "      <td>0.977</td>\n",
       "      <td>0.000</td>\n",
       "      <td>0.000</td>\n",
       "      <td>0.000</td>\n",
       "      <td>0.826</td>\n",
       "      <td>0.004</td>\n",
       "      <td>0.980</td>\n",
       "    </tr>\n",
       "    <tr>\n",
       "      <th>9</th>\n",
       "      <td>ANN - Opt by PSO</td>\n",
       "      <td>0.956</td>\n",
       "      <td>0.958</td>\n",
       "      <td>0.956</td>\n",
       "      <td>0.961</td>\n",
       "      <td>0.600</td>\n",
       "      <td>0.024</td>\n",
       "      <td>0.956</td>\n",
       "    </tr>\n",
       "    <tr>\n",
       "      <th>10</th>\n",
       "      <td>Hybrid Model - Opt by PSO</td>\n",
       "      <td>0.980</td>\n",
       "      <td>0.990</td>\n",
       "      <td>0.980</td>\n",
       "      <td>1.000</td>\n",
       "      <td>0.784</td>\n",
       "      <td>0.000</td>\n",
       "      <td>0.980</td>\n",
       "    </tr>\n",
       "    <tr>\n",
       "      <th>11</th>\n",
       "      <td>Voting Classifier - Opt by PSO</td>\n",
       "      <td>0.962</td>\n",
       "      <td>0.962</td>\n",
       "      <td>0.962</td>\n",
       "      <td>0.961</td>\n",
       "      <td>0.821</td>\n",
       "      <td>0.078</td>\n",
       "      <td>0.962</td>\n",
       "    </tr>\n",
       "  </tbody>\n",
       "</table>\n",
       "</div>"
      ],
      "text/plain": [
       "                          ML Model  Accuracy  f1_score  Recall  Precision  \\\n",
       "0                    RF- Opt by GA     0.980     0.990   0.980      1.000   \n",
       "1                  SVM - Opt by GA     0.980     0.000   0.000      0.000   \n",
       "2                  XGB - Opt by GA     0.980     0.000   0.000      0.000   \n",
       "3                  ANN - Opt by GA     0.980     0.973   0.980      0.972   \n",
       "4         Hybrid Model - Opt by GA     0.980     0.990   0.980      1.000   \n",
       "5    Voting Classifier - Opt by GA     0.962     0.962   0.962      0.961   \n",
       "6                  RF - Opt by PSO     0.980     0.990   0.980      1.000   \n",
       "7                 SVC - Opt by PSO     0.980     0.000   0.000      0.000   \n",
       "8                 XGB - Opt by PSO     0.977     0.000   0.000      0.000   \n",
       "9                 ANN - Opt by PSO     0.956     0.958   0.956      0.961   \n",
       "10       Hybrid Model - Opt by PSO     0.980     0.990   0.980      1.000   \n",
       "11  Voting Classifier - Opt by PSO     0.962     0.962   0.962      0.961   \n",
       "\n",
       "      AUC  Specificity  Sensitivity  \n",
       "0   0.813        0.000        0.980  \n",
       "1   0.624        0.000        0.980  \n",
       "2   0.834        0.000        0.980  \n",
       "3   0.284        0.501        0.980  \n",
       "4   0.784        0.000        0.980  \n",
       "5   0.821        0.078        0.962  \n",
       "6   0.874        0.000        0.980  \n",
       "7   0.376        0.000        0.980  \n",
       "8   0.826        0.004        0.980  \n",
       "9   0.600        0.024        0.956  \n",
       "10  0.784        0.000        0.980  \n",
       "11  0.821        0.078        0.962  "
      ]
     },
     "execution_count": 101,
     "metadata": {},
     "output_type": "execute_result"
    }
   ],
   "source": [
    "result"
   ]
  },
  {
   "cell_type": "markdown",
   "metadata": {},
   "source": [
    "# Graph"
   ]
  },
  {
   "cell_type": "code",
   "execution_count": 102,
   "metadata": {},
   "outputs": [],
   "source": [
    "classifier = ML_Model\n",
    "y_pos = np.arange(len(classifier))"
   ]
  },
  {
   "cell_type": "markdown",
   "metadata": {},
   "source": [
    "# Accuracy"
   ]
  },
  {
   "cell_type": "code",
   "execution_count": 103,
   "metadata": {},
   "outputs": [
    {
     "data": {
      "image/png": "[encoded data removed]",
      "text/plain": [
       "<Figure size 432x288 with 1 Axes>"
      ]
     },
     "metadata": {
      "needs_background": "light"
     },
     "output_type": "display_data"
    }
   ],
   "source": [
    "import matplotlib.pyplot as plt2\n",
    "plt2.barh(y_pos, accuracy, align='center', alpha=0.5,color='blue')\n",
    "plt2.yticks(y_pos, classifier)\n",
    "plt2.xlabel('Accuracy Score')\n",
    "plt2.title('Classification Performance')\n",
    "plt2.show()"
   ]
  },
  {
   "cell_type": "markdown",
   "metadata": {},
   "source": [
    "# Precision"
   ]
  },
  {
   "cell_type": "code",
   "execution_count": 104,
   "metadata": {},
   "outputs": [
    {
     "data": {
      "image/png": "[encoded data removed]",
      "text/plain": [
       "<Figure size 432x288 with 1 Axes>"
      ]
     },
     "metadata": {
      "needs_background": "light"
     },
     "output_type": "display_data"
    }
   ],
   "source": [
    "plt2.barh(y_pos, precision, align='center', alpha=0.5,color='red')\n",
    "plt2.yticks(y_pos, classifier)\n",
    "plt2.xlabel('Precision Score')\n",
    "plt2.title('Classification Performance')\n",
    "plt2.show()"
   ]
  },
  {
   "cell_type": "markdown",
   "metadata": {},
   "source": [
    "# Recall"
   ]
  },
  {
   "cell_type": "code",
   "execution_count": 105,
   "metadata": {},
   "outputs": [
    {
     "data": {
      "image/png": "[encoded data removed]",
      "text/plain": [
       "<Figure size 432x288 with 1 Axes>"
      ]
     },
     "metadata": {
      "needs_background": "light"
     },
     "output_type": "display_data"
    }
   ],
   "source": [
    "plt2.barh(y_pos, recall, align='center', alpha=0.5,color='yellow')\n",
    "plt2.yticks(y_pos, classifier)\n",
    "plt2.xlabel('Recall Score')\n",
    "plt2.title('Classification Performance')\n",
    "plt2.show()"
   ]
  },
  {
   "cell_type": "markdown",
   "metadata": {},
   "source": [
    "# F1 Score"
   ]
  },
  {
   "cell_type": "code",
   "execution_count": 106,
   "metadata": {},
   "outputs": [
    {
     "data": {
      "image/png": "[encoded data removed]",
      "text/plain": [
       "<Figure size 432x288 with 1 Axes>"
      ]
     },
     "metadata": {
      "needs_background": "light"
     },
     "output_type": "display_data"
    }
   ],
   "source": [
    "plt2.barh(y_pos, f1score, align='center', alpha=0.5,color='navy')\n",
    "plt2.yticks(y_pos, classifier)\n",
    "plt2.xlabel('F1 Score')\n",
    "plt2.title('Classification Performance')\n",
    "plt2.show()"
   ]
  },
  {
   "cell_type": "markdown",
   "metadata": {},
   "source": [
    "# AUC"
   ]
  },
  {
   "cell_type": "code",
   "execution_count": 107,
   "metadata": {},
   "outputs": [
    {
     "data": {
      "image/png": "[encoded data removed]",
      "text/plain": [
       "<Figure size 432x288 with 1 Axes>"
      ]
     },
     "metadata": {
      "needs_background": "light"
     },
     "output_type": "display_data"
    }
   ],
   "source": [
    "plt2.barh(y_pos, roc, align='center', alpha=0.5,color='orange')\n",
    "plt2.yticks(y_pos, classifier)\n",
    "plt2.xlabel('ROC_AUC Score')\n",
    "plt2.title('Classification Performance')\n",
    "plt2.show()"
   ]
  },
  {
   "cell_type": "markdown",
   "metadata": {},
   "source": [
    "# Sensitivity"
   ]
  },
  {
   "cell_type": "code",
   "execution_count": 108,
   "metadata": {},
   "outputs": [
    {
     "data": {
      "image/png": "[encoded data removed]",
      "text/plain": [
       "<Figure size 432x288 with 1 Axes>"
      ]
     },
     "metadata": {
      "needs_background": "light"
     },
     "output_type": "display_data"
    }
   ],
   "source": [
    "plt2.barh(y_pos, sens, align='center', alpha=0.5,color='brown')\n",
    "plt2.yticks(y_pos, classifier)\n",
    "plt2.xlabel('Senstivity Score')\n",
    "plt2.title('Classification Performance')\n",
    "plt2.show()"
   ]
  },
  {
   "cell_type": "code",
   "execution_count": null,
   "metadata": {},
   "outputs": [],
   "source": []
  }
 ],
 "metadata": {
  "kernelspec": {
   "display_name": "Python 3",
   "language": "python",
   "name": "python3"
  },
  "language_info": {
   "codemirror_mode": {
    "name": "ipython",
    "version": 3
   },
   "file_extension": ".py",
   "mimetype": "text/x-python",
   "name": "python",
   "nbconvert_exporter": "python",
   "pygments_lexer": "ipython3",
   "version": "3.7.4"
  }
 },
 "nbformat": 4,
 "nbformat_minor": 2
}
